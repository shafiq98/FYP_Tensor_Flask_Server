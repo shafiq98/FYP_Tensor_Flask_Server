{
 "cells": [
  {
   "cell_type": "code",
   "execution_count": 32,
   "outputs": [],
   "source": [
    "import logging\n",
    "\n",
    "import pandas as pd\n",
    "import numpy as np\n",
    "\n",
    "from keras.datasets import mnist\n",
    "from keras.models import Sequential\n",
    "from keras.layers import Dense, Dropout, Flatten\n",
    "from keras.layers import Conv2D, MaxPooling2D, MaxPool2D\n",
    "from keras import backend as K\n",
    "import matplotlib.pyplot as plt\n",
    "\n",
    "# the data, split between train and test sets\n",
    "from keras.utils import np_utils\n",
    "from matplotlib import pyplot\n",
    "from sklearn.model_selection import KFold\n",
    "import tensorflow as tf\n",
    "from tensorflow.python.keras import Sequential\n",
    "from tensorflow.python.client import device_lib\n",
    "\n",
    "# from tensorflow.python.keras.optimizers import SGD"
   ],
   "metadata": {
    "collapsed": false,
    "pycharm": {
     "name": "#%%\n"
    }
   }
  },
  {
   "cell_type": "code",
   "execution_count": 33,
   "outputs": [
    {
     "name": "stdout",
     "output_type": "stream",
     "text": [
      "Num GPUs Available:  1\n",
      "[name: \"/device:CPU:0\"\n",
      "device_type: \"CPU\"\n",
      "memory_limit: 268435456\n",
      "locality {\n",
      "}\n",
      "incarnation: 263772746669355802\n",
      "xla_global_id: -1\n",
      ", name: \"/device:GPU:0\"\n",
      "device_type: \"GPU\"\n",
      "memory_limit: 5717884928\n",
      "locality {\n",
      "  bus_id: 1\n",
      "  links {\n",
      "  }\n",
      "}\n",
      "incarnation: 17217770424582476533\n",
      "physical_device_desc: \"device: 0, name: NVIDIA GeForce RTX 3070, pci bus id: 0000:08:00.0, compute capability: 8.6\"\n",
      "xla_global_id: 416903419\n",
      "]\n"
     ]
    }
   ],
   "source": [
    "logging.basicConfig(\n",
    "    level=logging.DEBUG,\n",
    "    format='%(asctime)s - %(funcName)20s() - %(message)s', datefmt='%d-%b-%y %H:%M:%S',\n",
    "    handlers=[logging.StreamHandler()]\n",
    ")\n",
    "log = logging.getLogger(__name__)\n",
    "print(\"Num GPUs Available: \", len(tf.config.list_physical_devices('GPU')))\n",
    "print(device_lib.list_local_devices())"
   ],
   "metadata": {
    "collapsed": false,
    "pycharm": {
     "name": "#%%\n"
    }
   }
  },
  {
   "cell_type": "code",
   "execution_count": 34,
   "outputs": [],
   "source": [
    "def initialize_data():\n",
    "     # This method should eventually be changed to become an SQL DB instead\n",
    "    (X_train, y_train), (X_test, y_test) = mnist.load_data()\n",
    "\n",
    "    X_train = X_train.reshape(X_train.shape[0], 28, 28, 1).astype('float32')\n",
    "    X_test = X_test.reshape(X_test.shape[0], 28, 28, 1).astype('float32')\n",
    "\n",
    "    # # One hot Code\n",
    "    y_train = np_utils.to_categorical(y_train)\n",
    "    y_test = np_utils.to_categorical(y_test)\n",
    "    num_classes = y_test.shape[1]\n",
    "\n",
    "    # convert from integers to floats\n",
    "    X_train = X_train.astype('float32')\n",
    "    X_test = X_test.astype('float32')\n",
    "    # normalize to range [0, 1]\n",
    "    X_train = (X_train / 255.0)\n",
    "    X_test = (X_test / 255.0)\n",
    "\n",
    "    return (X_train, y_train), (X_test, y_test)"
   ],
   "metadata": {
    "collapsed": false,
    "pycharm": {
     "name": "#%%\n"
    }
   }
  },
  {
   "cell_type": "code",
   "execution_count": 35,
   "outputs": [],
   "source": [
    "def generate_dataframe(X_train, y_train, X_test, y_test):\n",
    "    log.debug(\"Creating train Dataframe\")\n",
    "\n",
    "    train_df = pd.DataFrame(columns=[\"PixelArray\", \"Result\"])\n",
    "    for image in range(0, len(X_train)):\n",
    "        dict_row = {\"PixelArray\": [X_train[image]], \"Result\": [y_train[image]]}\n",
    "        df_row = pd.DataFrame(dict_row)\n",
    "        train_df = pd.concat([train_df, df_row], ignore_index=True)\n",
    "\n",
    "    log.debug(\"Successfully created train Dataframe\")\n",
    "    log.debug(\"Creating test Dataframe\")\n",
    "\n",
    "    test_df = pd.DataFrame(columns=[\"PixelArray\", \"Result\"])\n",
    "    for image in range(0, len(X_test)):\n",
    "        dict_row = {\"PixelArray\": [X_test[image]], \"Result\": [y_test[image]]}\n",
    "        df_row = pd.DataFrame(dict_row)\n",
    "        test_df = pd.concat([test_df, df_row], ignore_index=True)\n",
    "\n",
    "    log.debug(\"Successfully created test Dataframe\")\n",
    "    #\n",
    "    # log.debug(\"Number of training rows = {}\".format(len(train_df)))\n",
    "    # log.debug(\"Number of nested arrays = {}\".format(len(train_df.loc[0][\"PixelArray\"])))\n",
    "    # log.debug(\"Length of inner array = {}\".format(len(train_df.loc[0][\"PixelArray\"][0])))\n",
    "    #\n",
    "    # log.debug(\"Number of testing rows = {}\".format(len(test_df)))\n",
    "    # log.debug(\"Number of nested arrays = {}\".format(len(test_df.loc[0][\"PixelArray\"])))\n",
    "    # log.debug(\"Length of inner array = {}\".format(len(test_df.loc[0][\"PixelArray\"][0])))\n",
    "\n",
    "    return (train_df, test_df)"
   ],
   "metadata": {
    "collapsed": false,
    "pycharm": {
     "name": "#%%\n"
    }
   }
  },
  {
   "cell_type": "code",
   "execution_count": 36,
   "outputs": [],
   "source": [
    "def generate_mnist_tuples(train_df: pd.DataFrame, test_df: pd.DataFrame):\n",
    "    reconstructed_x_train = train_df[\"PixelArray\"].to_numpy().tolist()\n",
    "    reconstructed_x_test = test_df[\"PixelArray\"].to_numpy().tolist()\n",
    "\n",
    "    reconstructed_y_train = train_df[\"Result\"].to_numpy().tolist()\n",
    "    reconstructed_y_test = test_df[\"Result\"].to_numpy().tolist()\n",
    "    # log.info(reconstructed_x_train)\n",
    "    # (X_train, y_train), (X_test, y_test) = mnist.load_data()\n",
    "\n",
    "    log.debug(\"Length of reconstructed_x_train = {}\".format(len(reconstructed_x_train)))\n",
    "    log.debug(\"Length of reconstructed_x_train[0] = {}\".format(len(reconstructed_x_train[0])))\n",
    "    log.debug(\"Length of reconstructed_x_train[0][0] = {}\".format(len(reconstructed_x_train[0][0])))\n",
    "    # tuple_comparator(reconstructed_x_train, X_train)\n",
    "\n",
    "    return (reconstructed_x_train, reconstructed_y_train), (reconstructed_x_test, reconstructed_y_test)"
   ],
   "metadata": {
    "collapsed": false,
    "pycharm": {
     "name": "#%%\n"
    }
   }
  },
  {
   "cell_type": "code",
   "execution_count": 37,
   "outputs": [],
   "source": [
    "(X_train, y_train), (X_test, y_test) = initialize_data()"
   ],
   "metadata": {
    "collapsed": false,
    "pycharm": {
     "name": "#%%\n"
    }
   }
  },
  {
   "cell_type": "code",
   "execution_count": 38,
   "outputs": [
    {
     "name": "stdout",
     "output_type": "stream",
     "text": [
      "[[0. 0. 0. ... 0. 0. 0.]\n",
      " [1. 0. 0. ... 0. 0. 0.]\n",
      " [0. 0. 0. ... 0. 0. 0.]\n",
      " ...\n",
      " [0. 0. 0. ... 0. 0. 0.]\n",
      " [0. 0. 0. ... 0. 0. 0.]\n",
      " [0. 0. 0. ... 0. 1. 0.]]\n"
     ]
    }
   ],
   "source": [
    "print(y_train)"
   ],
   "metadata": {
    "collapsed": false,
    "pycharm": {
     "name": "#%%\n"
    }
   }
  },
  {
   "cell_type": "code",
   "execution_count": 38,
   "outputs": [],
   "source": [],
   "metadata": {
    "collapsed": false,
    "pycharm": {
     "name": "#%%\n"
    }
   }
  },
  {
   "cell_type": "code",
   "execution_count": 39,
   "outputs": [
    {
     "name": "stderr",
     "output_type": "stream",
     "text": [
      "24-Jan-23 19:19:36 -   generate_dataframe() - Creating train Dataframe\n",
      "24-Jan-23 19:19:57 -   generate_dataframe() - Successfully created train Dataframe\n",
      "24-Jan-23 19:19:57 -   generate_dataframe() - Creating test Dataframe\n",
      "24-Jan-23 19:19:59 -   generate_dataframe() - Successfully created test Dataframe\n"
     ]
    },
    {
     "data": {
      "text/plain": "                                          PixelArray  \\\n0  [[[0.0], [0.0], [0.0], [0.0], [0.0], [0.0], [0...   \n1  [[[0.0], [0.0], [0.0], [0.0], [0.0], [0.0], [0...   \n2  [[[0.0], [0.0], [0.0], [0.0], [0.0], [0.0], [0...   \n3  [[[0.0], [0.0], [0.0], [0.0], [0.0], [0.0], [0...   \n4  [[[0.0], [0.0], [0.0], [0.0], [0.0], [0.0], [0...   \n\n                                              Result  \n0  [0.0, 0.0, 0.0, 0.0, 0.0, 1.0, 0.0, 0.0, 0.0, ...  \n1  [1.0, 0.0, 0.0, 0.0, 0.0, 0.0, 0.0, 0.0, 0.0, ...  \n2  [0.0, 0.0, 0.0, 0.0, 1.0, 0.0, 0.0, 0.0, 0.0, ...  \n3  [0.0, 1.0, 0.0, 0.0, 0.0, 0.0, 0.0, 0.0, 0.0, ...  \n4  [0.0, 0.0, 0.0, 0.0, 0.0, 0.0, 0.0, 0.0, 0.0, ...  ",
      "text/html": "<div>\n<style scoped>\n    .dataframe tbody tr th:only-of-type {\n        vertical-align: middle;\n    }\n\n    .dataframe tbody tr th {\n        vertical-align: top;\n    }\n\n    .dataframe thead th {\n        text-align: right;\n    }\n</style>\n<table border=\"1\" class=\"dataframe\">\n  <thead>\n    <tr style=\"text-align: right;\">\n      <th></th>\n      <th>PixelArray</th>\n      <th>Result</th>\n    </tr>\n  </thead>\n  <tbody>\n    <tr>\n      <th>0</th>\n      <td>[[[0.0], [0.0], [0.0], [0.0], [0.0], [0.0], [0...</td>\n      <td>[0.0, 0.0, 0.0, 0.0, 0.0, 1.0, 0.0, 0.0, 0.0, ...</td>\n    </tr>\n    <tr>\n      <th>1</th>\n      <td>[[[0.0], [0.0], [0.0], [0.0], [0.0], [0.0], [0...</td>\n      <td>[1.0, 0.0, 0.0, 0.0, 0.0, 0.0, 0.0, 0.0, 0.0, ...</td>\n    </tr>\n    <tr>\n      <th>2</th>\n      <td>[[[0.0], [0.0], [0.0], [0.0], [0.0], [0.0], [0...</td>\n      <td>[0.0, 0.0, 0.0, 0.0, 1.0, 0.0, 0.0, 0.0, 0.0, ...</td>\n    </tr>\n    <tr>\n      <th>3</th>\n      <td>[[[0.0], [0.0], [0.0], [0.0], [0.0], [0.0], [0...</td>\n      <td>[0.0, 1.0, 0.0, 0.0, 0.0, 0.0, 0.0, 0.0, 0.0, ...</td>\n    </tr>\n    <tr>\n      <th>4</th>\n      <td>[[[0.0], [0.0], [0.0], [0.0], [0.0], [0.0], [0...</td>\n      <td>[0.0, 0.0, 0.0, 0.0, 0.0, 0.0, 0.0, 0.0, 0.0, ...</td>\n    </tr>\n  </tbody>\n</table>\n</div>"
     },
     "execution_count": 39,
     "metadata": {},
     "output_type": "execute_result"
    }
   ],
   "source": [
    "train_df, test_df = generate_dataframe(X_train, y_train, X_test, y_test)\n",
    "train_df.head()"
   ],
   "metadata": {
    "collapsed": false,
    "pycharm": {
     "name": "#%%\n"
    }
   }
  },
  {
   "cell_type": "code",
   "execution_count": 40,
   "outputs": [],
   "source": [
    "def generate_mnist_tuples(train_df: pd.DataFrame, test_df: pd.DataFrame):\n",
    "    reconstructed_x_train = train_df[\"PixelArray\"].to_numpy().tolist()\n",
    "    reconstructed_x_test = test_df[\"PixelArray\"].to_numpy().tolist()\n",
    "    reconstructed_y_train = train_df[\"Result\"].to_numpy().tolist()\n",
    "    reconstructed_y_test = test_df[\"Result\"].to_numpy().tolist()\n",
    "    # log.info(reconstructed_x_train)\n",
    "    # (X_train, y_train), (X_test, y_test) = mnist.load_data()\n",
    "\n",
    "    log.debug(\"Length of reconstructed_x_train = {}\".format(len(reconstructed_x_train)))\n",
    "    log.debug(\"Length of reconstructed_x_train[0] = {}\".format(len(reconstructed_x_train[0])))\n",
    "    log.debug(\"Length of reconstructed_x_train[0][0] = {}\".format(len(reconstructed_x_train[0][0])))\n",
    "    # tuple_comparator(reconstructed_x_train, X_train)\n",
    "\n",
    "    return (reconstructed_x_train, reconstructed_y_train), (reconstructed_x_test, reconstructed_y_test)"
   ],
   "metadata": {
    "collapsed": false,
    "pycharm": {
     "name": "#%%\n"
    }
   }
  },
  {
   "cell_type": "code",
   "execution_count": 41,
   "outputs": [
    {
     "name": "stderr",
     "output_type": "stream",
     "text": [
      "24-Jan-23 19:19:59 - generate_mnist_tuples() - Length of reconstructed_x_train = 60000\n",
      "24-Jan-23 19:19:59 - generate_mnist_tuples() - Length of reconstructed_x_train[0] = 28\n",
      "24-Jan-23 19:19:59 - generate_mnist_tuples() - Length of reconstructed_x_train[0][0] = 28\n"
     ]
    }
   ],
   "source": [
    "(reconstructed_x_train, reconstructed_y_train), (reconstructed_x_test, reconstructed_y_test) = generate_mnist_tuples(train_df, test_df)"
   ],
   "metadata": {
    "collapsed": false,
    "pycharm": {
     "name": "#%%\n"
    }
   }
  },
  {
   "cell_type": "code",
   "execution_count": 42,
   "outputs": [
    {
     "data": {
      "text/plain": "array([0.], dtype=float32)"
     },
     "execution_count": 42,
     "metadata": {},
     "output_type": "execute_result"
    }
   ],
   "source": [
    "reconstructed_x_train[0][0][0]"
   ],
   "metadata": {
    "collapsed": false,
    "pycharm": {
     "name": "#%%\n"
    }
   }
  },
  {
   "cell_type": "code",
   "execution_count": 43,
   "outputs": [
    {
     "data": {
      "text/plain": "array([0.], dtype=float32)"
     },
     "execution_count": 43,
     "metadata": {},
     "output_type": "execute_result"
    }
   ],
   "source": [
    "X_train[0][0][0]"
   ],
   "metadata": {
    "collapsed": false,
    "pycharm": {
     "name": "#%%\n"
    }
   }
  },
  {
   "cell_type": "code",
   "execution_count": 44,
   "outputs": [
    {
     "data": {
      "text/plain": "numpy.ndarray"
     },
     "execution_count": 44,
     "metadata": {},
     "output_type": "execute_result"
    }
   ],
   "source": [
    "type(reconstructed_x_train[0][0][0])"
   ],
   "metadata": {
    "collapsed": false,
    "pycharm": {
     "name": "#%%\n"
    }
   }
  },
  {
   "cell_type": "code",
   "execution_count": 45,
   "outputs": [
    {
     "data": {
      "text/plain": "numpy.ndarray"
     },
     "execution_count": 45,
     "metadata": {},
     "output_type": "execute_result"
    }
   ],
   "source": [
    "type(X_train[0][0][0])"
   ],
   "metadata": {
    "collapsed": false,
    "pycharm": {
     "name": "#%%\n"
    }
   }
  },
  {
   "cell_type": "code",
   "execution_count": 46,
   "outputs": [
    {
     "data": {
      "text/plain": "numpy.float32"
     },
     "execution_count": 46,
     "metadata": {},
     "output_type": "execute_result"
    }
   ],
   "source": [
    "type(X_train[0][0][0][0])"
   ],
   "metadata": {
    "collapsed": false,
    "pycharm": {
     "name": "#%%\n"
    }
   }
  },
  {
   "cell_type": "code",
   "execution_count": 47,
   "outputs": [
    {
     "data": {
      "text/plain": "numpy.float32"
     },
     "execution_count": 47,
     "metadata": {},
     "output_type": "execute_result"
    }
   ],
   "source": [
    "type(reconstructed_x_train[0][0][0][0])"
   ],
   "metadata": {
    "collapsed": false,
    "pycharm": {
     "name": "#%%\n"
    }
   }
  },
  {
   "cell_type": "code",
   "execution_count": 48,
   "outputs": [],
   "source": [
    "def create_model():\n",
    "    # Create model\n",
    "    # Building CNN\n",
    "    model = Sequential()\n",
    "    # relu: rectified linear unit activation function\n",
    "    model.add(Conv2D(32, (3, 3), activation='relu', kernel_initializer='he_uniform', input_shape=(28, 28, 1)))\n",
    "    model.add(MaxPooling2D((2, 2)))\n",
    "    model.add(Conv2D(64, (3, 3), activation='relu', kernel_initializer='he_uniform'))\n",
    "    model.add(Conv2D(64, (3, 3), activation='relu', kernel_initializer='he_uniform'))\n",
    "    model.add(MaxPooling2D((2, 2)))\n",
    "    model.add(Flatten())\n",
    "    model.add(Dense(100, activation='relu', kernel_initializer='he_uniform'))\n",
    "    model.add(Dense(10, activation='softmax'))\n",
    "    # model.summary()\n",
    "\n",
    "    # compile model\n",
    "    model.compile(loss='categorical_crossentropy', optimizer='adam', metrics=['accuracy'])\n",
    "    return model"
   ],
   "metadata": {
    "collapsed": false,
    "pycharm": {
     "name": "#%%\n"
    }
   }
  },
  {
   "cell_type": "code",
   "execution_count": 49,
   "outputs": [
    {
     "data": {
      "text/plain": "60000"
     },
     "execution_count": 49,
     "metadata": {},
     "output_type": "execute_result"
    }
   ],
   "source": [
    "len(X_train)"
   ],
   "metadata": {
    "collapsed": false,
    "pycharm": {
     "name": "#%%\n"
    }
   }
  },
  {
   "cell_type": "code",
   "execution_count": 50,
   "outputs": [
    {
     "data": {
      "text/plain": "60000"
     },
     "execution_count": 50,
     "metadata": {},
     "output_type": "execute_result"
    }
   ],
   "source": [
    "len(y_train)"
   ],
   "metadata": {
    "collapsed": false,
    "pycharm": {
     "name": "#%%\n"
    }
   }
  },
  {
   "cell_type": "code",
   "execution_count": 51,
   "outputs": [
    {
     "data": {
      "text/plain": "60000"
     },
     "execution_count": 51,
     "metadata": {},
     "output_type": "execute_result"
    }
   ],
   "source": [
    "len(reconstructed_x_train)"
   ],
   "metadata": {
    "collapsed": false,
    "pycharm": {
     "name": "#%%\n"
    }
   }
  },
  {
   "cell_type": "code",
   "execution_count": 52,
   "outputs": [
    {
     "data": {
      "text/plain": "60000"
     },
     "execution_count": 52,
     "metadata": {},
     "output_type": "execute_result"
    }
   ],
   "source": [
    "len(reconstructed_y_train)"
   ],
   "metadata": {
    "collapsed": false,
    "pycharm": {
     "name": "#%%\n"
    }
   }
  },
  {
   "cell_type": "code",
   "execution_count": 53,
   "outputs": [],
   "source": [
    "# reconstructed_y_train = np_utils.to_categorical(reconstructed_y_train)\n",
    "# reconstructed_y_test = np_utils.to_categorical(reconstructed_y_test)\n",
    "# num_classes = reconstructed_y_test.shape[1]"
   ],
   "metadata": {
    "collapsed": false,
    "pycharm": {
     "name": "#%%\n"
    }
   }
  },
  {
   "cell_type": "code",
   "execution_count": 54,
   "outputs": [
    {
     "data": {
      "text/plain": "60000"
     },
     "execution_count": 54,
     "metadata": {},
     "output_type": "execute_result"
    }
   ],
   "source": [
    "len(reconstructed_y_train)"
   ],
   "metadata": {
    "collapsed": false,
    "pycharm": {
     "name": "#%%\n"
    }
   }
  },
  {
   "cell_type": "code",
   "execution_count": 55,
   "outputs": [
    {
     "name": "stderr",
     "output_type": "stream",
     "text": [
      "24-Jan-23 19:20:00 -             <module>() - Length of reconstructed_x_train = 60000\n",
      "24-Jan-23 19:20:00 -             <module>() - Length of reconstructed_x_train[0] = 28\n",
      "24-Jan-23 19:20:00 -             <module>() - Length of reconstructed_x_train[0][0] = 28\n",
      "24-Jan-23 19:20:00 -             <module>() - Length of reconstructed_y_train = 60000\n",
      "24-Jan-23 19:20:00 -             <module>() - Length of reconstructed_y_train[0] = 10\n",
      "24-Jan-23 19:20:00 -             <module>() - Length of reconstructed_x_test = 10000\n",
      "24-Jan-23 19:20:00 -             <module>() - Length of reconstructed_x_test[0] = 28\n",
      "24-Jan-23 19:20:00 -             <module>() - Length of reconstructed_x_test[0][0] = 28\n",
      "24-Jan-23 19:20:00 -             <module>() - Length of reconstructed_y_test = 10000\n",
      "24-Jan-23 19:20:00 -             <module>() - Length of reconstructed_y_test[0] = 10\n"
     ]
    }
   ],
   "source": [
    "log.debug(\"Length of reconstructed_x_train = {}\".format(len(reconstructed_x_train)))\n",
    "log.debug(\"Length of reconstructed_x_train[0] = {}\".format(len(reconstructed_x_train[0])))\n",
    "log.debug(\"Length of reconstructed_x_train[0][0] = {}\".format(len(reconstructed_x_train[0][0])))\n",
    "\n",
    "log.debug(\"Length of reconstructed_y_train = {}\".format(len(reconstructed_y_train)))\n",
    "log.debug(\"Length of reconstructed_y_train[0] = {}\".format(len(reconstructed_y_train[0])))\n",
    "\n",
    "log.debug(\"Length of reconstructed_x_test = {}\".format(len(reconstructed_x_test)))\n",
    "log.debug(\"Length of reconstructed_x_test[0] = {}\".format(len(reconstructed_x_test[0])))\n",
    "log.debug(\"Length of reconstructed_x_test[0][0] = {}\".format(len(reconstructed_x_test[0][0])))\n",
    "\n",
    "log.debug(\"Length of reconstructed_y_test = {}\".format(len(reconstructed_y_test)))\n",
    "log.debug(\"Length of reconstructed_y_test[0] = {}\".format(len(reconstructed_y_test[0])))"
   ],
   "metadata": {
    "collapsed": false,
    "pycharm": {
     "name": "#%%\n"
    }
   }
  },
  {
   "cell_type": "code",
   "execution_count": 56,
   "outputs": [
    {
     "name": "stdout",
     "output_type": "stream",
     "text": [
      "Epoch 1/10\n",
      "300/300 [==============================] - 2s 7ms/step - loss: 0.1840 - accuracy: 0.9451 - val_loss: 0.0492 - val_accuracy: 0.9845\n",
      "Epoch 2/10\n",
      "300/300 [==============================] - 2s 6ms/step - loss: 0.0472 - accuracy: 0.9852 - val_loss: 0.0328 - val_accuracy: 0.9893\n",
      "Epoch 3/10\n",
      "300/300 [==============================] - 2s 6ms/step - loss: 0.0348 - accuracy: 0.9889 - val_loss: 0.0286 - val_accuracy: 0.9905\n",
      "Epoch 4/10\n",
      "300/300 [==============================] - 2s 6ms/step - loss: 0.0240 - accuracy: 0.9923 - val_loss: 0.0270 - val_accuracy: 0.9913\n",
      "Epoch 5/10\n",
      "300/300 [==============================] - 2s 6ms/step - loss: 0.0170 - accuracy: 0.9943 - val_loss: 0.0236 - val_accuracy: 0.9925\n",
      "Epoch 6/10\n",
      "300/300 [==============================] - 2s 6ms/step - loss: 0.0139 - accuracy: 0.9954 - val_loss: 0.0315 - val_accuracy: 0.9897\n",
      "Epoch 7/10\n",
      "300/300 [==============================] - 2s 6ms/step - loss: 0.0119 - accuracy: 0.9961 - val_loss: 0.0331 - val_accuracy: 0.9891\n",
      "Epoch 8/10\n",
      "300/300 [==============================] - 2s 6ms/step - loss: 0.0094 - accuracy: 0.9969 - val_loss: 0.0336 - val_accuracy: 0.9908\n",
      "Epoch 9/10\n",
      "300/300 [==============================] - 2s 6ms/step - loss: 0.0091 - accuracy: 0.9971 - val_loss: 0.0388 - val_accuracy: 0.9894\n",
      "Epoch 10/10\n",
      "300/300 [==============================] - 2s 6ms/step - loss: 0.0062 - accuracy: 0.9978 - val_loss: 0.0353 - val_accuracy: 0.9911\n"
     ]
    },
    {
     "data": {
      "text/plain": "<tensorflow.python.keras.callbacks.History at 0x1fd22abdd00>"
     },
     "execution_count": 56,
     "metadata": {},
     "output_type": "execute_result"
    }
   ],
   "source": [
    "model = create_model()\n",
    "# https://stackoverflow.com/questions/65474081/valueerror-data-cardinality-is-ambiguous-make-sure-all-arrays-contain-the-same\n",
    "model.fit(np.array(reconstructed_x_train), np.array(reconstructed_y_train), validation_data=(np.array(reconstructed_x_test), np.array(reconstructed_y_test)), epochs=10, batch_size=200)"
   ],
   "metadata": {
    "collapsed": false,
    "pycharm": {
     "name": "#%%\n"
    }
   }
  },
  {
   "cell_type": "code",
   "execution_count": 57,
   "outputs": [],
   "source": [
    "def test(X_train, model):\n",
    "    test_images = X_train[1:5]\n",
    "    test_images = test_images.reshape(test_images.shape[0], 28, 28)\n",
    "\n",
    "    for i, test_image in enumerate(test_images, start=1):\n",
    "        org_image = test_image\n",
    "        test_image = test_image.reshape(1, 28, 28, 1)\n",
    "        prediction = model.predict_classes(test_image, verbose=0)\n",
    "\n",
    "        print(\"Predicted digit: {}\".format(prediction[0]))\n",
    "        plt.subplot(220 + i)\n",
    "        plt.axis('off')\n",
    "        plt.title(\"Predicted digit: {}\".format(prediction[0]))\n",
    "        plt.imshow(org_image, cmap=plt.get_cmap('gray'))\n",
    "\n",
    "    plt.show()"
   ],
   "metadata": {
    "collapsed": false,
    "pycharm": {
     "name": "#%%\n"
    }
   }
  },
  {
   "cell_type": "code",
   "execution_count": 58,
   "outputs": [],
   "source": [
    "# # TEST\n",
    "# # for images alreday\n",
    "# test(X_train, model)\n",
    "#"
   ],
   "metadata": {
    "collapsed": false,
    "pycharm": {
     "name": "#%%\n"
    }
   }
  },
  {
   "cell_type": "code",
   "execution_count": 58,
   "outputs": [],
   "source": [],
   "metadata": {
    "collapsed": false,
    "pycharm": {
     "name": "#%%\n"
    }
   }
  }
 ],
 "metadata": {
  "kernelspec": {
   "display_name": "Python 3",
   "language": "python",
   "name": "python3"
  },
  "language_info": {
   "codemirror_mode": {
    "name": "ipython",
    "version": 2
   },
   "file_extension": ".py",
   "mimetype": "text/x-python",
   "name": "python",
   "nbconvert_exporter": "python",
   "pygments_lexer": "ipython2",
   "version": "2.7.6"
  }
 },
 "nbformat": 4,
 "nbformat_minor": 0
}